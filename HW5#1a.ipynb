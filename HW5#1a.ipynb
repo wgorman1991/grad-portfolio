{
 "cells": [
  {
   "cell_type": "code",
   "execution_count": 10,
   "metadata": {
    "collapsed": false
   },
   "outputs": [
    {
     "data": {
      "image/png": "[encoded data removed]",
      "text/plain": [
       "<matplotlib.figure.Figure at 0xd587417c88>"
      ]
     },
     "metadata": {},
     "output_type": "display_data"
    }
   ],
   "source": [
    "%matplotlib inline\n",
    "import matplotlib.pyplot as plt\n",
    "import scipy as sp\n",
    "import numpy as np\n",
    "\n",
    "ydist = []\n",
    "bdist = []\n",
    "adist = []\n",
    "\n",
    "fig = plt.figure()\n",
    "sp1 = fig.add_subplot(121)\n",
    "\n",
    "for i in range(0,10000):\n",
    "    y = []\n",
    "    p = 0\n",
    "    q = 0\n",
    "    for x in range(1,11):\n",
    "        Yi = 5 + 0.5*x + np.random.normal(0,2)\n",
    "        y.append(Yi)\n",
    "        p += Yi*x/2\n",
    "        q += Yi/2\n",
    "    ydist.append(y)\n",
    "    bdist.append((5*p - 27.5*q)/206.25)\n",
    "    adist.append((192.5*q - 27.5*p)/206.25)\n",
    "    \n",
    "sp1.scatter(adist,bdist,color='blue',s=5,edgecolor='none')\n",
    "plt.xlabel(\"a hat\")\n",
    "plt.ylabel(\"b hat\")\n",
    "sp1.set_aspect(1./sp1.get_data_ratio())"
   ]
  },
  {
   "cell_type": "code",
   "execution_count": null,
   "metadata": {
    "collapsed": true
   },
   "outputs": [],
   "source": []
  }
 ],
 "metadata": {
  "kernelspec": {
   "display_name": "Python 3",
   "language": "python",
   "name": "python3"
  },
  "language_info": {
   "codemirror_mode": {
    "name": "ipython",
    "version": 3
   },
   "file_extension": ".py",
   "mimetype": "text/x-python",
   "name": "python",
   "nbconvert_exporter": "python",
   "pygments_lexer": "ipython3",
   "version": "3.5.1"
  }
 },
 "nbformat": 4,
 "nbformat_minor": 0
}
