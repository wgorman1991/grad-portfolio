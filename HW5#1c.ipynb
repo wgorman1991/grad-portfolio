{
 "cells": [
  {
   "cell_type": "code",
   "execution_count": 18,
   "metadata": {
    "collapsed": false
   },
   "outputs": [
    {
     "data": {
      "text/plain": [
       "<matplotlib.text.Text at 0xf65b214780>"
      ]
     },
     "execution_count": 18,
     "metadata": {},
     "output_type": "execute_result"
    },
    {
     "data": {
      "image/png": "[encoded data removed]",
      "text/plain": [
       "<matplotlib.figure.Figure at 0xf6575212b0>"
      ]
     },
     "metadata": {},
     "output_type": "display_data"
    },
    {
     "data": {
      "image/png": "[encoded data removed]",
      "text/plain": [
       "<matplotlib.figure.Figure at 0xf65b03cd30>"
      ]
     },
     "metadata": {},
     "output_type": "display_data"
    }
   ],
   "source": [
    "%matplotlib inline\n",
    "import matplotlib.pyplot as plt\n",
    "import scipy as sp\n",
    "import numpy as np\n",
    "\n",
    "chidist = []\n",
    "pdist = []\n",
    "\n",
    "for i in range(0,10000):\n",
    "    y = []\n",
    "    p = 0\n",
    "    q = 0\n",
    "    chisquare = 0\n",
    "    for x in range(1,11):\n",
    "        Yi = 5 + 0.5*x + np.random.normal(0,2)\n",
    "        y.append(Yi)\n",
    "        p += Yi*x/2\n",
    "        q += Yi/2\n",
    "\n",
    "    b = (5*p - 27.5*q)/206.25\n",
    "    a = (192.5*q - 27.5*p)/206.25\n",
    "    for j in range(0,10):\n",
    "        chisquare += ((b*(j+1) + a - y[j])**2)/4\n",
    "    chidist.append(chisquare)\n",
    "    \n",
    "for l in range(0,10000):\n",
    "    yy = []\n",
    "    p = 0\n",
    "    q = 0\n",
    "    chisquare = 0\n",
    "    chicnt = 0\n",
    "    for x in range(1,11):\n",
    "        Yl = 5 + 0.5*x + np.random.normal(0,2)\n",
    "        yy.append(Yl)\n",
    "        p += Yl*x/2\n",
    "        q += Yl/2\n",
    "    bb = (5*p - 27.5*q)/206.25\n",
    "    aa = (192.5*q - 27.5*p)/206.25\n",
    "    for m in range(0,10):\n",
    "        chisquare += ((bb*(m+1) + aa - yy[m])**2)/4\n",
    "    for n in range(0,10000):\n",
    "        if chisquare > chidist[n]:\n",
    "            chicnt += 1\n",
    "    pdist.append(chicnt/10000)\n",
    "\n",
    "plt.figure(1)\n",
    "bins1 = np.linspace(0,30,100)\n",
    "plt.hist(chidist,bins1)\n",
    "plt.xlabel(\"Binned Chi Squared\")\n",
    "plt.ylabel(\"Number of Counts per Bin\")\n",
    "\n",
    "plt.figure(2)\n",
    "bins2 = np.linspace(0,1,100)\n",
    "plt.hist(pdist,bins2)\n",
    "plt.xlabel(\"Binned p-Value\")\n",
    "plt.ylabel(\"Number of Counts per Bin\")"
   ]
  },
  {
   "cell_type": "code",
   "execution_count": null,
   "metadata": {
    "collapsed": true
   },
   "outputs": [],
   "source": []
  }
 ],
 "metadata": {
  "kernelspec": {
   "display_name": "Python 3",
   "language": "python",
   "name": "python3"
  },
  "language_info": {
   "codemirror_mode": {
    "name": "ipython",
    "version": 3
   },
   "file_extension": ".py",
   "mimetype": "text/x-python",
   "name": "python",
   "nbconvert_exporter": "python",
   "pygments_lexer": "ipython3",
   "version": "3.5.1"
  }
 },
 "nbformat": 4,
 "nbformat_minor": 0
}
